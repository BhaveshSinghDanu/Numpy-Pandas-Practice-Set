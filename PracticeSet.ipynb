{
 "cells": [
  {
   "cell_type": "code",
   "execution_count": 2,
   "id": "652a031e-1d8e-43c1-9ae2-ec22e22eecfb",
   "metadata": {},
   "outputs": [],
   "source": [
    "import numpy as np"
   ]
  },
  {
   "cell_type": "markdown",
   "id": "bfece23c-3578-4421-86f2-715e153adec0",
   "metadata": {},
   "source": [
    "**How to create an empty and a full NumPy array?**"
   ]
  },
  {
   "cell_type": "code",
   "execution_count": 3,
   "id": "1230658c-a071-466a-8240-b7d54c471447",
   "metadata": {},
   "outputs": [
    {
     "data": {
      "text/plain": [
       "array([[4.67296746e-307, 1.69121096e-306, 7.56595733e-307],\n",
       "       [1.06811354e-306, 1.42419938e-306, 7.56603881e-307],\n",
       "       [8.45603440e-307, 4.45046008e-307, 2.37667058e-312]])"
      ]
     },
     "execution_count": 3,
     "metadata": {},
     "output_type": "execute_result"
    }
   ],
   "source": [
    "arr=np.empty((3,3))\n",
    "arr"
   ]
  },
  {
   "cell_type": "markdown",
   "id": "9ffe024c-f13a-40f8-ab60-2466369cf0ed",
   "metadata": {},
   "source": [
    "**Create a Numpy array filled with all zeros**"
   ]
  },
  {
   "cell_type": "code",
   "execution_count": 6,
   "id": "56791da7-7c25-4c93-8210-be89d19d8454",
   "metadata": {},
   "outputs": [
    {
     "data": {
      "text/plain": [
       "array([[0, 0, 0],\n",
       "       [0, 0, 0],\n",
       "       [0, 0, 0]])"
      ]
     },
     "execution_count": 6,
     "metadata": {},
     "output_type": "execute_result"
    }
   ],
   "source": [
    "arr=np.zeros((3,3),dtype='int')\n",
    "arr"
   ]
  },
  {
   "cell_type": "markdown",
   "id": "ceb54aaa-442f-4a2d-93e8-288e148b4e3d",
   "metadata": {},
   "source": [
    "**Create a Numpy array filled with all ones**"
   ]
  },
  {
   "cell_type": "code",
   "execution_count": 7,
   "id": "4f362a7c-c794-409d-aaf0-fb3bc2858973",
   "metadata": {},
   "outputs": [
    {
     "data": {
      "text/plain": [
       "array([[1, 1, 1],\n",
       "       [1, 1, 1]])"
      ]
     },
     "execution_count": 7,
     "metadata": {},
     "output_type": "execute_result"
    }
   ],
   "source": [
    "arr=np.ones((2,3),dtype='int')\n",
    "arr"
   ]
  },
  {
   "cell_type": "markdown",
   "id": "ca22f0db-e43b-4cdc-bbaa-e23ed155a2a7",
   "metadata": {},
   "source": [
    "**Check whether a Numpy array contains a specified row**"
   ]
  },
  {
   "cell_type": "code",
   "execution_count": 10,
   "id": "dc8cc171-2fa8-4a49-9820-c1bf94a09ad0",
   "metadata": {},
   "outputs": [
    {
     "name": "stdout",
     "output_type": "stream",
     "text": [
      "yes\n",
      "no\n"
     ]
    }
   ],
   "source": [
    "arr=np.array([[2,2,1],[1,2,3]])\n",
    "if [1,2,3] in arr.tolist():\n",
    "    print(\"yes\")\n",
    "else:\n",
    "    print(\"no\")\n",
    "\n",
    "if [1,1,1] in arr.tolist():\n",
    "    print('yes')\n",
    "else:\n",
    "    print('no')"
   ]
  },
  {
   "cell_type": "markdown",
   "id": "f0317447-6a6f-4835-9d5a-34a018ded450",
   "metadata": {},
   "source": [
    "**Remove single-dimensional entries from the shape of an array**"
   ]
  },
  {
   "cell_type": "code",
   "execution_count": 41,
   "id": "4c2081ce-8e48-4fae-bee4-bb3ef4c10532",
   "metadata": {},
   "outputs": [
    {
     "name": "stdout",
     "output_type": "stream",
     "text": [
      "[[[1 2 3]\n",
      "  [4 5 6]]]\n",
      "[[1 2 3]\n",
      " [4 5 6]]\n"
     ]
    }
   ],
   "source": [
    "arr=np.arange(1,7)\n",
    "arr=arr.reshape(1,2,3)\n",
    "print(arr)\n",
    "arr2=arr.reshape(2,3)\n",
    "print(arr2)"
   ]
  },
  {
   "cell_type": "markdown",
   "id": "837fc9a2-a425-4e45-9fe1-261b08e4021f",
   "metadata": {},
   "source": [
    "**Find the number of occurrences of a sequence in a NumPy array**"
   ]
  },
  {
   "cell_type": "code",
   "execution_count": 54,
   "id": "69c0e112-6867-441f-a2aa-3e003aa8aef0",
   "metadata": {},
   "outputs": [
    {
     "name": "stdout",
     "output_type": "stream",
     "text": [
      "1\n"
     ]
    }
   ],
   "source": [
    "arr=np.arange(1,7)\n",
    "arr=arr.reshape(2,3)\n",
    "count=0\n",
    "CountList=[1,2,3]\n",
    "for i in range(len(arr)):\n",
    "    if CountList in arr[i]:\n",
    "        count=count+1\n",
    "print(count)"
   ]
  },
  {
   "cell_type": "markdown",
   "id": "64943580-dddf-4740-a704-3a7a052b8f85",
   "metadata": {},
   "source": [
    "**Find the most frequent value in a NumPy array**"
   ]
  },
  {
   "cell_type": "code",
   "execution_count": 67,
   "id": "a0a093f1-5334-41d5-b413-67a220045001",
   "metadata": {},
   "outputs": [
    {
     "data": {
      "text/plain": [
       "2"
      ]
     },
     "execution_count": 67,
     "metadata": {},
     "output_type": "execute_result"
    }
   ],
   "source": [
    "arr=np.array([1,2,3,2,2,2,1,1,4,6])\n",
    "np.bincount(arr).argmax()"
   ]
  },
  {
   "cell_type": "markdown",
   "id": "dc437776-5f72-4b8f-8d69-57d022646c05",
   "metadata": {},
   "source": [
    "**Combining a one and a two-dimensional NumPy Array**"
   ]
  },
  {
   "cell_type": "code",
   "execution_count": 78,
   "id": "ae1d1710-41bd-42cf-ae9b-579d1999982d",
   "metadata": {},
   "outputs": [
    {
     "data": {
      "text/plain": [
       "(40,)"
      ]
     },
     "execution_count": 78,
     "metadata": {},
     "output_type": "execute_result"
    }
   ],
   "source": [
    "arr1=np.arange(1,21).reshape(1,20)\n",
    "arr2=np.arange(1,21).reshape(2,10)\n",
    "arr3=np.append(arr2,arr1)\n",
    "arr3.shape"
   ]
  },
  {
   "cell_type": "markdown",
   "id": "e2de14a9-e261-4acd-9a95-9809add1f010",
   "metadata": {},
   "source": [
    "**How to compare two NumPy arrays?**"
   ]
  },
  {
   "cell_type": "code",
   "execution_count": 87,
   "id": "82af1ff7-f8f8-4b2b-b119-ceaed8971719",
   "metadata": {},
   "outputs": [
    {
     "name": "stdout",
     "output_type": "stream",
     "text": [
      "True\n"
     ]
    }
   ],
   "source": [
    "arr1=np.arange(1,21).reshape(1,20)\n",
    "arr2=np.arange(1,21).reshape(1,20)\n",
    "\n",
    "compare=arr1==arr2\n",
    "isequal=compare.all()\n",
    "print(isequal)"
   ]
  },
  {
   "cell_type": "markdown",
   "id": "71391fe2-add6-44b6-8f49-da8585cd8a6f",
   "metadata": {},
   "source": [
    "**Flatten a 2d numpy array into 1d array**"
   ]
  },
  {
   "cell_type": "code",
   "execution_count": 88,
   "id": "2292a8ae-0788-4266-9c63-2cb338e71d33",
   "metadata": {},
   "outputs": [
    {
     "data": {
      "text/plain": [
       "array([[ 1,  2,  3,  4,  5,  6,  7,  8,  9, 10],\n",
       "       [11, 12, 13, 14, 15, 16, 17, 18, 19, 20]])"
      ]
     },
     "execution_count": 88,
     "metadata": {},
     "output_type": "execute_result"
    }
   ],
   "source": [
    "arr2=np.arange(1,21).reshape(2,10)\n",
    "arr2"
   ]
  },
  {
   "cell_type": "code",
   "execution_count": 89,
   "id": "27da64eb-ea81-44a9-8b7c-37926fc7242d",
   "metadata": {},
   "outputs": [
    {
     "name": "stdout",
     "output_type": "stream",
     "text": [
      "[ 1  2  3  4  5  6  7  8  9 10 11 12 13 14 15 16 17 18 19 20]\n"
     ]
    }
   ],
   "source": [
    "arr3=arr2.flatten()\n",
    "print(arr3)"
   ]
  },
  {
   "cell_type": "markdown",
   "id": "ce8ea006-3048-4b81-92b2-d7fe9b545cf2",
   "metadata": {},
   "source": [
    "**Reverse a numpy array**"
   ]
  },
  {
   "cell_type": "code",
   "execution_count": 90,
   "id": "a1176757-c2ad-42f9-a03a-1110f0fb52e7",
   "metadata": {},
   "outputs": [
    {
     "data": {
      "text/plain": [
       "array([[ 1,  2,  3,  4,  5,  6,  7,  8,  9, 10],\n",
       "       [11, 12, 13, 14, 15, 16, 17, 18, 19, 20]])"
      ]
     },
     "execution_count": 90,
     "metadata": {},
     "output_type": "execute_result"
    }
   ],
   "source": [
    "arr2=np.arange(1,21).reshape(2,10)\n",
    "arr2"
   ]
  },
  {
   "cell_type": "code",
   "execution_count": 92,
   "id": "d5702016-1e46-488f-9cb5-d38fe75af616",
   "metadata": {},
   "outputs": [
    {
     "data": {
      "text/plain": [
       "array([[20, 19, 18, 17, 16, 15, 14, 13, 12, 11],\n",
       "       [10,  9,  8,  7,  6,  5,  4,  3,  2,  1]])"
      ]
     },
     "execution_count": 92,
     "metadata": {},
     "output_type": "execute_result"
    }
   ],
   "source": [
    "np.flip(arr2)"
   ]
  },
  {
   "cell_type": "code",
   "execution_count": 93,
   "id": "c78e6c99-c49c-4576-90ae-4f47d5b63f10",
   "metadata": {},
   "outputs": [
    {
     "data": {
      "text/plain": [
       "array([[ 1, 11],\n",
       "       [ 2, 12],\n",
       "       [ 3, 13],\n",
       "       [ 4, 14],\n",
       "       [ 5, 15],\n",
       "       [ 6, 16],\n",
       "       [ 7, 17],\n",
       "       [ 8, 18],\n",
       "       [ 9, 19],\n",
       "       [10, 20]])"
      ]
     },
     "execution_count": 93,
     "metadata": {},
     "output_type": "execute_result"
    }
   ],
   "source": [
    "np.transpose(arr2)"
   ]
  },
  {
   "cell_type": "markdown",
   "id": "3e013b64-8d14-4f40-958d-f5cdff790cf0",
   "metadata": {},
   "source": [
    "**Get the maximum value from given matrix**"
   ]
  },
  {
   "cell_type": "code",
   "execution_count": 94,
   "id": "a9648994-3e1d-4f3d-91d4-8cd00a70b262",
   "metadata": {},
   "outputs": [
    {
     "data": {
      "text/plain": [
       "array([[ 1,  2,  3,  4,  5,  6,  7,  8,  9, 10],\n",
       "       [11, 12, 13, 14, 15, 16, 17, 18, 19, 20]])"
      ]
     },
     "execution_count": 94,
     "metadata": {},
     "output_type": "execute_result"
    }
   ],
   "source": [
    "arr2=np.arange(1,21).reshape(2,10)\n",
    "arr2"
   ]
  },
  {
   "cell_type": "code",
   "execution_count": 96,
   "id": "0e0b43dc-0664-499b-b7a6-9b133fa1e20d",
   "metadata": {},
   "outputs": [
    {
     "data": {
      "text/plain": [
       "20"
      ]
     },
     "execution_count": 96,
     "metadata": {},
     "output_type": "execute_result"
    }
   ],
   "source": [
    "arr2.max()"
   ]
  },
  {
   "cell_type": "markdown",
   "id": "f5a16170-dafa-432d-bfb4-df002b94c995",
   "metadata": {},
   "source": [
    "**Get the minimum value from given matrix**"
   ]
  },
  {
   "cell_type": "code",
   "execution_count": 97,
   "id": "d372f711-8274-4e4c-89c1-cb038cccf7a6",
   "metadata": {},
   "outputs": [
    {
     "data": {
      "text/plain": [
       "1"
      ]
     },
     "execution_count": 97,
     "metadata": {},
     "output_type": "execute_result"
    }
   ],
   "source": [
    "arr2.min()"
   ]
  },
  {
   "cell_type": "markdown",
   "id": "b9118dc2-eb43-46ea-a6a0-80289eacfadc",
   "metadata": {},
   "source": [
    "**Find the number of rows and columns of a given matrix using NumPy**"
   ]
  },
  {
   "cell_type": "code",
   "execution_count": 100,
   "id": "4c986cab-1494-49a7-9324-ee286d100147",
   "metadata": {},
   "outputs": [
    {
     "data": {
      "text/plain": [
       "(2, 10)"
      ]
     },
     "execution_count": 100,
     "metadata": {},
     "output_type": "execute_result"
    }
   ],
   "source": [
    "arr2.shape"
   ]
  },
  {
   "cell_type": "markdown",
   "id": "c36f943f-6cf8-475f-b567-7f4303b2268b",
   "metadata": {},
   "source": [
    "**Find the sum of values in a matrix**"
   ]
  },
  {
   "cell_type": "code",
   "execution_count": 101,
   "id": "9abbb463-25e4-42d1-abf8-3e4a829a3776",
   "metadata": {},
   "outputs": [
    {
     "data": {
      "text/plain": [
       "210"
      ]
     },
     "execution_count": 101,
     "metadata": {},
     "output_type": "execute_result"
    }
   ],
   "source": [
    "arr2.sum()"
   ]
  },
  {
   "cell_type": "markdown",
   "id": "a2fb0cb2-77bf-4186-970f-579732e35e2a",
   "metadata": {},
   "source": [
    "**Calculate the sum of the diagonal elements of a NumPy array**"
   ]
  },
  {
   "cell_type": "code",
   "execution_count": 104,
   "id": "b4fd1e8d-5987-4850-9fad-aac7e14a73a1",
   "metadata": {},
   "outputs": [
    {
     "data": {
      "text/plain": [
       "5"
      ]
     },
     "execution_count": 104,
     "metadata": {},
     "output_type": "execute_result"
    }
   ],
   "source": [
    "arr=np.array([[1,2],[2,4]])\n",
    "np.trace(arr)"
   ]
  },
  {
   "cell_type": "markdown",
   "id": "39ccc46d-1e63-433f-b4a0-a370ef432504",
   "metadata": {},
   "source": [
    "***Adding and Subtracting Matrices in Python ,Ways to add row/columns in numpy array,Matrix Multiplication in NumPy***"
   ]
  },
  {
   "cell_type": "code",
   "execution_count": 112,
   "id": "8e2f4ebc-4a5a-40b4-b1ff-1c7087d6c29c",
   "metadata": {},
   "outputs": [
    {
     "data": {
      "text/plain": [
       "array([[ 4,  4,  7],\n",
       "       [ 7,  7, 13],\n",
       "       [66,  6,  7]])"
      ]
     },
     "execution_count": 112,
     "metadata": {},
     "output_type": "execute_result"
    }
   ],
   "source": [
    "a=np.array([[1,2,3],[4,5,6],[54,3,2]])\n",
    "b=np.array([[3,2,4],[3,2,7],[12,3,5]])\n",
    "a+b"
   ]
  },
  {
   "cell_type": "code",
   "execution_count": 113,
   "id": "0c932c3c-9e7e-43ee-ae1c-c0fb3d7ca7fa",
   "metadata": {},
   "outputs": [
    {
     "data": {
      "text/plain": [
       "array([[-2,  0, -1],\n",
       "       [ 1,  3, -1],\n",
       "       [42,  0, -3]])"
      ]
     },
     "execution_count": 113,
     "metadata": {},
     "output_type": "execute_result"
    }
   ],
   "source": [
    "a-b"
   ]
  },
  {
   "cell_type": "code",
   "execution_count": 114,
   "id": "b400b6ee-9846-4dd3-89f1-be45dfedec65",
   "metadata": {},
   "outputs": [
    {
     "data": {
      "text/plain": [
       "array([[  3,   4,  12],\n",
       "       [ 12,  10,  42],\n",
       "       [648,   9,  10]])"
      ]
     },
     "execution_count": 114,
     "metadata": {},
     "output_type": "execute_result"
    }
   ],
   "source": [
    "a*b"
   ]
  },
  {
   "cell_type": "code",
   "execution_count": 115,
   "id": "f7864079-ed98-4d1f-bdaf-91c52b552db7",
   "metadata": {},
   "outputs": [
    {
     "data": {
      "text/plain": [
       "(3, 3)"
      ]
     },
     "execution_count": 115,
     "metadata": {},
     "output_type": "execute_result"
    }
   ],
   "source": [
    "a.shape"
   ]
  },
  {
   "cell_type": "code",
   "execution_count": 116,
   "id": "193f14e9-1af1-4943-a7dc-21e559ebe4ee",
   "metadata": {},
   "outputs": [
    {
     "data": {
      "text/plain": [
       "(3, 3)"
      ]
     },
     "execution_count": 116,
     "metadata": {},
     "output_type": "execute_result"
    }
   ],
   "source": [
    "b.shape"
   ]
  },
  {
   "cell_type": "code",
   "execution_count": 120,
   "id": "d94f700e-d7c7-4bd7-800b-4d955d7054a7",
   "metadata": {},
   "outputs": [
    {
     "data": {
      "text/plain": [
       "array([[ 45,  15,  33],\n",
       "       [ 99,  36,  81],\n",
       "       [195, 120, 247]])"
      ]
     },
     "execution_count": 120,
     "metadata": {},
     "output_type": "execute_result"
    }
   ],
   "source": [
    "c=a@b # Matrix Multiplication\n",
    "c"
   ]
  },
  {
   "cell_type": "code",
   "execution_count": 130,
   "id": "d75ebe42-ca6b-4b98-9dfd-533a7d7fa855",
   "metadata": {},
   "outputs": [
    {
     "data": {
      "text/plain": [
       "array([[ 45,  15,  33],\n",
       "       [ 99,  36,  81],\n",
       "       [195, 120, 247],\n",
       "       [  9,   9,   9]])"
      ]
     },
     "execution_count": 130,
     "metadata": {},
     "output_type": "execute_result"
    }
   ],
   "source": [
    "to_add=np.array([[9,9,9]])\n",
    "np.append(c,to_add,axis=0)"
   ]
  },
  {
   "cell_type": "markdown",
   "id": "501976a6-f77b-4b76-9063-fef23a7a08c3",
   "metadata": {},
   "source": [
    "**Calculate the mean of array ignoring the NaN value**"
   ]
  },
  {
   "cell_type": "code",
   "execution_count": 144,
   "id": "7597c64e-ba25-48c8-8c62-24647819c61a",
   "metadata": {},
   "outputs": [],
   "source": [
    "arr=[[1,2,np.nan],[np.nan,2,3]]\n",
    "arr2=np.nan_to_num(arr,0)"
   ]
  },
  {
   "cell_type": "code",
   "execution_count": 147,
   "id": "c67d4258-531a-4a6e-9342-72af5fdf9486",
   "metadata": {},
   "outputs": [
    {
     "data": {
      "text/plain": [
       "1.3333333333333333"
      ]
     },
     "execution_count": 147,
     "metadata": {},
     "output_type": "execute_result"
    }
   ],
   "source": [
    "np.mean(arr2)"
   ]
  },
  {
   "cell_type": "code",
   "execution_count": 148,
   "id": "385c5d18-0a95-4e91-a881-c98f8ce4ad7c",
   "metadata": {},
   "outputs": [
    {
     "data": {
      "text/plain": [
       "nan"
      ]
     },
     "execution_count": 148,
     "metadata": {},
     "output_type": "execute_result"
    }
   ],
   "source": [
    "np.mean(arr)"
   ]
  },
  {
   "cell_type": "code",
   "execution_count": null,
   "id": "dbb572ea-482a-4418-9dbb-9fbdda3a7a7d",
   "metadata": {},
   "outputs": [],
   "source": []
  }
 ],
 "metadata": {
  "kernelspec": {
   "display_name": "Python 3 (ipykernel)",
   "language": "python",
   "name": "python3"
  },
  "language_info": {
   "codemirror_mode": {
    "name": "ipython",
    "version": 3
   },
   "file_extension": ".py",
   "mimetype": "text/x-python",
   "name": "python",
   "nbconvert_exporter": "python",
   "pygments_lexer": "ipython3",
   "version": "3.12.1"
  }
 },
 "nbformat": 4,
 "nbformat_minor": 5
}
